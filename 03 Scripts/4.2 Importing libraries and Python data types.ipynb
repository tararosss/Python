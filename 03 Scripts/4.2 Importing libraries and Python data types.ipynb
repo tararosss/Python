{
 "cells": [
  {
   "cell_type": "markdown",
   "id": "5b0bac35-da1b-4432-8345-f7872921f68a",
   "metadata": {},
   "source": [
    "# 01. Importing Libraries"
   ]
  },
  {
   "cell_type": "code",
   "execution_count": 1,
   "id": "6a1665e9-6097-48de-b4fe-0122fc8cef9b",
   "metadata": {},
   "outputs": [],
   "source": [
    "# Import libraries\n",
    "import pandas as pd\n",
    "import numpy as np\n",
    "import os"
   ]
  },
  {
   "cell_type": "markdown",
   "id": "e4fe73a0-675e-470c-bc4c-ed6ee468adc3",
   "metadata": {},
   "source": [
    "# 02. Data Types"
   ]
  },
  {
   "cell_type": "code",
   "execution_count": 9,
   "id": "a8d7a087-73a6-4366-968a-53bfd1a872f7",
   "metadata": {},
   "outputs": [],
   "source": [
    "#Code 3 different ways of reaching a result of 100 by adding or subtracting numeric variables\n",
    "x = 25"
   ]
  },
  {
   "cell_type": "code",
   "execution_count": 2,
   "id": "bf2c536d-d56c-4a3e-81c0-7eb45ee02db0",
   "metadata": {},
   "outputs": [],
   "source": [
    "y = 75"
   ]
  },
  {
   "cell_type": "code",
   "execution_count": 3,
   "id": "d5ec2c18-5afe-46fd-ad60-3228ab7c405b",
   "metadata": {},
   "outputs": [
    {
     "data": {
      "text/plain": [
       "100"
      ]
     },
     "execution_count": 3,
     "metadata": {},
     "output_type": "execute_result"
    }
   ],
   "source": [
    "x+y"
   ]
  },
  {
   "cell_type": "code",
   "execution_count": 5,
   "id": "09b5dea5-af4c-4b06-93b4-ae9e36032380",
   "metadata": {},
   "outputs": [
    {
     "data": {
      "text/plain": [
       "100"
      ]
     },
     "execution_count": 5,
     "metadata": {},
     "output_type": "execute_result"
    }
   ],
   "source": [
    "50+50"
   ]
  },
  {
   "cell_type": "code",
   "execution_count": 6,
   "id": "63c20783-2355-4df8-b267-39ce4a5a5647",
   "metadata": {},
   "outputs": [],
   "source": [
    "a= 150"
   ]
  },
  {
   "cell_type": "code",
   "execution_count": 7,
   "id": "ffd1f0d9-7653-42b1-a4e2-b0bc3fa0166c",
   "metadata": {},
   "outputs": [],
   "source": [
    "b=50"
   ]
  },
  {
   "cell_type": "code",
   "execution_count": 8,
   "id": "a4609c31-5a1b-40c6-9f07-20c1083a894f",
   "metadata": {},
   "outputs": [
    {
     "data": {
      "text/plain": [
       "100"
      ]
     },
     "execution_count": 8,
     "metadata": {},
     "output_type": "execute_result"
    }
   ],
   "source": [
    "a-b"
   ]
  },
  {
   "cell_type": "code",
   "execution_count": 12,
   "id": "cf96bb3d-1763-4c26-9cce-cf44b9e92646",
   "metadata": {},
   "outputs": [],
   "source": [
    "#Code 2 floating-point variables and divide them together\n",
    "c=54.8"
   ]
  },
  {
   "cell_type": "code",
   "execution_count": 13,
   "id": "759656e9-505e-4cd2-bc8f-94cce783c503",
   "metadata": {},
   "outputs": [],
   "source": [
    "d=4.2"
   ]
  },
  {
   "cell_type": "code",
   "execution_count": 14,
   "id": "ee8095d7-de5e-4c26-b75f-3dbae9260632",
   "metadata": {},
   "outputs": [
    {
     "data": {
      "text/plain": [
       "13.047619047619046"
      ]
     },
     "execution_count": 14,
     "metadata": {},
     "output_type": "execute_result"
    }
   ],
   "source": [
    "c/d"
   ]
  },
  {
   "cell_type": "code",
   "execution_count": 17,
   "id": "8c57d4d5-c7b4-43ff-85df-563fb93e9c5a",
   "metadata": {},
   "outputs": [],
   "source": [
    "#Construct a short word made of separate strings\n",
    "e='race'"
   ]
  },
  {
   "cell_type": "code",
   "execution_count": 18,
   "id": "933151fc-5217-4c61-8640-905fd78d8af9",
   "metadata": {},
   "outputs": [],
   "source": [
    "f='car'"
   ]
  },
  {
   "cell_type": "code",
   "execution_count": 19,
   "id": "5f4a3311-6b0e-4e64-9198-fd67ef35fe00",
   "metadata": {},
   "outputs": [
    {
     "data": {
      "text/plain": [
       "'racecar'"
      ]
     },
     "execution_count": 19,
     "metadata": {},
     "output_type": "execute_result"
    }
   ],
   "source": [
    "e+f"
   ]
  },
  {
   "cell_type": "code",
   "execution_count": 21,
   "id": "f368c57d-9eef-4bc8-9130-6d638fb354ef",
   "metadata": {},
   "outputs": [],
   "source": [
    "#Construct 2 short sentences made of separate strings\n",
    "g='Python is a fun language to learn.'"
   ]
  },
  {
   "cell_type": "code",
   "execution_count": 24,
   "id": "93382ee0-9679-4365-b018-d6bfcdd0061a",
   "metadata": {},
   "outputs": [],
   "source": [
    "h=' I am eager to learn more!'"
   ]
  },
  {
   "cell_type": "code",
   "execution_count": 25,
   "id": "fb82be54-a6ff-4e7c-9cc7-a22531db1726",
   "metadata": {},
   "outputs": [
    {
     "data": {
      "text/plain": [
       "'Python is a fun language to learn. I am eager to learn more!'"
      ]
     },
     "execution_count": 25,
     "metadata": {},
     "output_type": "execute_result"
    }
   ],
   "source": [
    "g+h"
   ]
  },
  {
   "cell_type": "code",
   "execution_count": 26,
   "id": "cce1321e-e455-494e-ad00-0c659a6a57ef",
   "metadata": {},
   "outputs": [],
   "source": [
    "#Bonus Task! Include a command that makes a string appear 100 times\n",
    "i = 'beep '"
   ]
  },
  {
   "cell_type": "code",
   "execution_count": 27,
   "id": "6bde06ff-76b4-44bf-8c22-a5a45285b1d4",
   "metadata": {},
   "outputs": [
    {
     "data": {
      "text/plain": [
       "'beep beep beep beep beep beep beep beep beep beep beep beep beep beep beep beep beep beep beep beep beep beep beep beep beep beep beep beep beep beep beep beep beep beep beep beep beep beep beep beep beep beep beep beep beep beep beep beep beep beep beep beep beep beep beep beep beep beep beep beep beep beep beep beep beep beep beep beep beep beep beep beep beep beep beep beep beep beep beep beep beep beep beep beep beep beep beep beep beep beep beep beep beep beep beep beep beep beep beep beep '"
      ]
     },
     "execution_count": 27,
     "metadata": {},
     "output_type": "execute_result"
    }
   ],
   "source": [
    "i*100"
   ]
  },
  {
   "cell_type": "code",
   "execution_count": null,
   "id": "5a731ae1-7554-47cd-b7d5-14469c3e5481",
   "metadata": {},
   "outputs": [],
   "source": []
  }
 ],
 "metadata": {
  "kernelspec": {
   "display_name": "Python 3 (ipykernel)",
   "language": "python",
   "name": "python3"
  },
  "language_info": {
   "codemirror_mode": {
    "name": "ipython",
    "version": 3
   },
   "file_extension": ".py",
   "mimetype": "text/x-python",
   "name": "python",
   "nbconvert_exporter": "python",
   "pygments_lexer": "ipython3",
   "version": "3.11.7"
  }
 },
 "nbformat": 4,
 "nbformat_minor": 5
}
